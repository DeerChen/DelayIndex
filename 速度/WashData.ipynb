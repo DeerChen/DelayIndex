{
 "cells": [
  {
   "cell_type": "code",
   "execution_count": 1,
   "id": "60c01ac7",
   "metadata": {},
   "outputs": [],
   "source": [
    "import numpy as np\n",
    "import pandas as pd\n",
    "\n",
    "from pandas.core.frame import DataFrame\n",
    "from pandas.core.indexes.datetimes import DatetimeIndex\n",
    "\n",
    "from pathlib import Path, PosixPath\n",
    "\n",
    "from tqdm.notebook import tqdm"
   ]
  },
  {
   "cell_type": "code",
   "execution_count": 2,
   "id": "f724f5f0",
   "metadata": {
    "code_folding": [
     0
    ]
   },
   "outputs": [],
   "source": [
    "class WashData:\n",
    "    def __init__(self) -> None:\n",
    "        self.data_path = Path('./data/')\n",
    "        \n",
    "        self.time_list = self._get_time_list()\n",
    "\n",
    "    def _get_time_list(self) -> list:\n",
    "        return [\n",
    "            '{}:{}'.format(\n",
    "                i.split(' ')[1].split(':')[0],\n",
    "                i.split(' ')[1].split(':')[1]\n",
    "            ) for i in pd.date_range(\n",
    "                start='2020-09-01',\n",
    "                end='2020-09-02',\n",
    "                freq='5Min',\n",
    "                closed='left'\n",
    "            ).astype(str)\n",
    "        ]\n",
    "\n",
    "    def _get_date_dict(self, date_list: list) -> dict:\n",
    "        return dict(zip(\n",
    "            [\n",
    "                '{}{}'.format(\n",
    "                    i.split('-')[1],\n",
    "                    i.split('-')[2]\n",
    "                ) for i in date_list.astype(str)\n",
    "            ],\n",
    "            date_list\n",
    "        ))\n",
    "    \n",
    "    def _structured_data(\n",
    "        self,\n",
    "        data_path: PosixPath,\n",
    "        file: PosixPath,\n",
    "        date_list: list,\n",
    "        date_dict: dict\n",
    "    ) -> None:\n",
    "        template = pd.DataFrame(\n",
    "            columns=date_list,\n",
    "            index=self.time_list\n",
    "        )\n",
    "        \n",
    "        df = pd.read_excel(\n",
    "                file\n",
    "            ).drop(['Unnamed: 0'], axis=1).set_index(['time']).replace(0, np.nan)\n",
    "        for raw_row in df.index:\n",
    "            for raw_col in df.columns:\n",
    "                try:\n",
    "                    r = '%04d' % raw_row\n",
    "                    row = '{}:{}'.format(r[:2], r[2:])\n",
    "        \n",
    "                    col = date_dict[raw_col]\n",
    "                    template.loc[row, col] = df.loc[raw_row, raw_col]\n",
    "                except:\n",
    "                    continue\n",
    "                    \n",
    "        template.to_excel(\n",
    "            Path.joinpath(\n",
    "                data_path,\n",
    "                '{}.xlsx'.format(file.stem)\n",
    "            )\n",
    "        )"
   ]
  },
  {
   "cell_type": "code",
   "execution_count": 3,
   "id": "688a028f",
   "metadata": {
    "code_folding": [
     0
    ]
   },
   "outputs": [],
   "source": [
    "class WashSepNov(WashData):\n",
    "    def __init__(self) -> None:\n",
    "        super().__init__()\n",
    "        \n",
    "        self.sep_nov_raw_data_path = Path.joinpath(self.data_path, '速度（9-11月）')\n",
    "        self.sep_nov_data_path = Path.joinpath(self.data_path, '速度(9-11月)')\n",
    "        \n",
    "        self.sep_nov_date_list = self._get_sep_nov_date()\n",
    "        self.date_dict = self._get_date_dict(self.sep_nov_date_list)\n",
    "    \n",
    "    def _get_sep_nov_date(self) -> DatetimeIndex:\n",
    "        return pd.date_range(\n",
    "            start='2020-09-01',\n",
    "            end='2020-11-30',\n",
    "            freq='D'\n",
    "        ).drop(\n",
    "            pd.date_range(\n",
    "                start='2020-10-01',\n",
    "                end='2020-10-08',\n",
    "                freq='D'\n",
    "            )\n",
    "        )\n",
    "    \n",
    "    def run(self) -> None:\n",
    "        print('正在清洗9-11月的数据，请稍候…')\n",
    "        \n",
    "        with tqdm(total=231) as pbar:\n",
    "            for file in self.sep_nov_raw_data_path.iterdir():\n",
    "                if file.suffix == '.xls':\n",
    "                    self._structured_data(\n",
    "                        self.sep_nov_data_path,\n",
    "                        file,\n",
    "                        self.sep_nov_date_list,\n",
    "                        self.date_dict\n",
    "                    )\n",
    "                pbar.update(1)"
   ]
  },
  {
   "cell_type": "code",
   "execution_count": 4,
   "id": "77af2e1b",
   "metadata": {
    "code_folding": [
     0
    ]
   },
   "outputs": [],
   "source": [
    "class WashMar(WashData):\n",
    "    def __init__(self) -> None:\n",
    "        super().__init__()\n",
    "        \n",
    "        self.mar_raw_data_path = Path.joinpath(self.data_path, '速度（3月）')\n",
    "        self.mar_data_path = Path.joinpath(self.data_path, '速度(3月)')\n",
    "        \n",
    "        self.mar_date_list = self._get_mar_date()\n",
    "        self.date_dict = self._get_date_dict(self.mar_date_list)\n",
    "    \n",
    "    def _get_mar_date(self) -> DatetimeIndex:\n",
    "        return pd.date_range(\n",
    "            start='2020-03-01',\n",
    "            end='2020-04-01',\n",
    "            freq='D',\n",
    "            closed='left'\n",
    "        )\n",
    "    \n",
    "    def run(self) -> None:\n",
    "        print('正在清洗3月的数据，请稍候…')\n",
    "        \n",
    "        with tqdm(total=232) as pbar:\n",
    "            for file in self.mar_raw_data_path.iterdir():\n",
    "                if file.suffix == '.xls':\n",
    "                    self._structured_data(\n",
    "                        self.mar_data_path,\n",
    "                        file,\n",
    "                        self.mar_date_list,\n",
    "                        self.date_dict\n",
    "                    )\n",
    "                pbar.update(1)"
   ]
  },
  {
   "cell_type": "code",
   "execution_count": 5,
   "id": "fe32b8fd",
   "metadata": {},
   "outputs": [
    {
     "name": "stdout",
     "output_type": "stream",
     "text": [
      "正在清洗9-11月的数据，请稍候…\n"
     ]
    },
    {
     "data": {
      "application/vnd.jupyter.widget-view+json": {
       "model_id": "8a79a4c0dac44eaa96d6bfd09aefa7b9",
       "version_major": 2,
       "version_minor": 0
      },
      "text/plain": [
       "  0%|          | 0/231 [00:00<?, ?it/s]"
      ]
     },
     "metadata": {},
     "output_type": "display_data"
    },
    {
     "name": "stdout",
     "output_type": "stream",
     "text": [
      "正在清洗3月的数据，请稍候…\n"
     ]
    },
    {
     "data": {
      "application/vnd.jupyter.widget-view+json": {
       "model_id": "418f01e47c3349048b2b7119a7a5fd8e",
       "version_major": 2,
       "version_minor": 0
      },
      "text/plain": [
       "  0%|          | 0/232 [00:00<?, ?it/s]"
      ]
     },
     "metadata": {},
     "output_type": "display_data"
    }
   ],
   "source": [
    "def main() -> None:\n",
    "    WashSepNov().run()\n",
    "    WashMar().run()\n",
    "\n",
    "if __name__ == '__main__':\n",
    "    main()"
   ]
  }
 ],
 "metadata": {
  "kernelspec": {
   "display_name": "Python 3",
   "language": "python",
   "name": "python3"
  },
  "language_info": {
   "codemirror_mode": {
    "name": "ipython",
    "version": 3
   },
   "file_extension": ".py",
   "mimetype": "text/x-python",
   "name": "python",
   "nbconvert_exporter": "python",
   "pygments_lexer": "ipython3",
   "version": "3.7.3"
  }
 },
 "nbformat": 4,
 "nbformat_minor": 5
}
