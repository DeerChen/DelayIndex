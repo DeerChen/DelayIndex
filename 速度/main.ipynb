{
 "cells": [
  {
   "cell_type": "code",
   "execution_count": 1,
   "id": "5c9fa9c3",
   "metadata": {},
   "outputs": [],
   "source": [
    "import pandas as pd\n",
    "\n",
    "from pandas.core.frame import DataFrame\n",
    "from pandas.core.groupby.generic import DataFrameGroupBy\n",
    "from pandas.core.indexes.datetimes import DatetimeIndex\n",
    "\n",
    "from pathlib import Path, PosixPath\n",
    "\n",
    "from tqdm.notebook import tqdm"
   ]
  },
  {
   "cell_type": "code",
   "execution_count": 2,
   "id": "027f7600",
   "metadata": {
    "code_folding": [
     0
    ]
   },
   "outputs": [],
   "source": [
    "class HandleData:\n",
    "    def __init__(self) -> None:\n",
    "        self.data_path = Path('./data/')\n",
    "        self.weekday_list = ['周一', '周二', '周三', '周四', '周五', '周六', '周日']\n",
    "    \n",
    "    def _grouping(self, groups: DataFrameGroupBy) -> list:\n",
    "        mon_mean = groups.get_group('Monday').mean()\n",
    "        tue_mean = groups.get_group('Tuesday').mean()\n",
    "        wed_mean = groups.get_group('Wednesday').mean()\n",
    "        thur_mean = groups.get_group('Thursday').mean()\n",
    "        fri_mean = groups.get_group('Friday').mean()\n",
    "        sat_mean = groups.get_group('Saturday').mean()\n",
    "        sun_mean = groups.get_group('Sunday').mean()\n",
    "        \n",
    "        return [mon_mean, tue_mean, wed_mean, thur_mean, fri_mean, sat_mean, sun_mean]"
   ]
  },
  {
   "cell_type": "code",
   "execution_count": 3,
   "id": "a6f6339e",
   "metadata": {
    "code_folding": [
     0
    ]
   },
   "outputs": [],
   "source": [
    "class HandleSepNov(HandleData):\n",
    "    def __init__(self) -> None:\n",
    "        super().__init__()\n",
    "        \n",
    "        self.sep_nov_data_path = Path.joinpath(self.data_path, '速度(9-11月)')\n",
    "        self.day_name = self._get_day_name()\n",
    "        \n",
    "    def _get_day_name(self) -> DatetimeIndex:\n",
    "        return pd.date_range(\n",
    "            start='2020-09-01',\n",
    "            end='2020-11-30',\n",
    "            freq='D'\n",
    "        ).drop(\n",
    "            pd.date_range(\n",
    "                start='2020-10-01',\n",
    "                end='2020-10-08',\n",
    "                freq='D'\n",
    "            )\n",
    "        ).day_name()\n",
    "    \n",
    "    def _pretreatment(self, file: PosixPath) -> DataFrame:\n",
    "        df = pd.read_excel(\n",
    "                Path.joinpath(self.sep_nov_data_path, file.name)\n",
    "            ).set_index(['Unnamed: 0'])\n",
    "        \n",
    "        df.index.name = 'time'\n",
    "        df.columns = self.day_name\n",
    "        \n",
    "        return df\n",
    "        \n",
    "    def _save(self, result_list: list, file: PosixPath) -> None:\n",
    "        with pd.ExcelWriter('./result/{}'.format(file.name)) as f:\n",
    "            for num in range(len(result_list)):\n",
    "                result_series = result_list[num]\n",
    "                name = self.weekday_list[num]\n",
    "\n",
    "                weekday_result = result_series.to_frame()\n",
    "                weekday_result.columns = ['9-11月']\n",
    "                \n",
    "                df = pd.concat([\n",
    "                    pd.DataFrame(columns=[name+'速度均值']),\n",
    "                    weekday_result,\n",
    "                    pd.DataFrame(columns=['3月']),\n",
    "                    pd.DataFrame(columns=['4月'])\n",
    "                ])\n",
    "\n",
    "                df.to_excel(\n",
    "                    f,\n",
    "                    sheet_name=name\n",
    "                )\n",
    "\n",
    "    def run(self):\n",
    "        print('正在处理9-11月的数据，请稍候…')\n",
    "        \n",
    "        with tqdm(total=231) as pbar:\n",
    "            for file in self.sep_nov_data_path.iterdir():\n",
    "                if file.suffix == '.xlsx':\n",
    "                    df = self._pretreatment(file).T\n",
    "\n",
    "                    groups = df.groupby(df.index)\n",
    "                    result_list = self._grouping(groups)\n",
    "\n",
    "                    self._save(result_list, file)\n",
    "                pbar.update(1)"
   ]
  },
  {
   "cell_type": "code",
   "execution_count": 4,
   "id": "367dd50e",
   "metadata": {
    "code_folding": [
     0
    ]
   },
   "outputs": [],
   "source": [
    "class HandleMar(HandleData):\n",
    "    def __init__(self) -> None:\n",
    "        super().__init__()\n",
    "        \n",
    "        self.mar_data_path = Path.joinpath(self.data_path, '速度(3月)')\n",
    "        self.day_name = self._get_day_name()\n",
    "        \n",
    "    def _get_day_name(self) -> DatetimeIndex:\n",
    "        return pd.date_range(\n",
    "            start='2020-03-01',\n",
    "            end='2020-04-01',\n",
    "            freq='D',\n",
    "            closed='left'\n",
    "        ).day_name()\n",
    "    \n",
    "    def _pretreatment(self, file: PosixPath) -> DataFrame:\n",
    "        df = pd.read_excel(\n",
    "                Path.joinpath(self.mar_data_path, file.name)\n",
    "            ).set_index(['Unnamed: 0'])\n",
    "        \n",
    "        df.index.name = 'time'\n",
    "        df.columns = self.day_name\n",
    "        \n",
    "        return df\n",
    "        \n",
    "    def _save(self, result_list: list, file: PosixPath) -> None:\n",
    "        with pd.ExcelWriter('./result/{}'.format(file.name)) as writer:\n",
    "            for num in range(len(result_list)):\n",
    "                result_series = result_list[num]\n",
    "                name = self.weekday_list[num]\n",
    "\n",
    "                weekday_result = result_series.to_frame()\n",
    "                weekday_result.columns = ['3月']\n",
    "                \n",
    "                df = pd.DataFrame(columns=[name+'速度均值', '9-11月'])\n",
    "                result = pd.concat([\n",
    "                    df,\n",
    "                    weekday_result,\n",
    "                    pd.DataFrame(columns=['4月'])\n",
    "                ])\n",
    "\n",
    "                result.to_excel(\n",
    "                    writer,\n",
    "                    sheet_name=name\n",
    "                )\n",
    "                \n",
    "    def _append(self, result_list: list, file: PosixPath) -> None:\n",
    "        excel_list = []\n",
    "        with pd.ExcelFile('./result/{}'.format(file.name)) as f:\n",
    "            for num in range(len(self.weekday_list)):\n",
    "                excel_list.append(\n",
    "                    f.parse(sheet_name=f.sheet_names[num]).set_index(['Unnamed: 0'])\n",
    "                )\n",
    "                \n",
    "        Path.joinpath(Path('./result/{}'.format(file.name))).unlink()\n",
    "            \n",
    "        with pd.ExcelWriter('./result/{}'.format(file.name)) as writer:\n",
    "            for num in range(len(result_list)):\n",
    "                result_series = result_list[num]\n",
    "                name = self.weekday_list[num]\n",
    "\n",
    "                weekday_result = result_series.to_frame()\n",
    "                weekday_result.columns = ['3月']\n",
    "                \n",
    "                result = pd.concat([\n",
    "                    excel_list[num].drop(['3月'], axis=1).drop(['4月'], axis=1),\n",
    "                    weekday_result,\n",
    "                    pd.DataFrame(columns=['4月'])\n",
    "                ], axis=1)\n",
    "                result.to_excel(\n",
    "                    writer,\n",
    "                    sheet_name=name\n",
    "                )\n",
    "            \n",
    "    def run(self):\n",
    "        print('正在处理3月的数据，请稍候…')\n",
    "        \n",
    "        with tqdm(total=232) as pbar:\n",
    "            for file in self.mar_data_path.iterdir():\n",
    "                if file.suffix == '.xlsx':\n",
    "                    df = self._pretreatment(file).T\n",
    "\n",
    "                    groups = df.groupby(df.index)\n",
    "                    result_list = self._grouping(groups)\n",
    "                    \n",
    "                    if Path.joinpath(Path('./result/{}'.format(file.name))).exists():\n",
    "                        self._append(result_list, file)\n",
    "                    else:\n",
    "                        self._save(result_list, file)\n",
    "                pbar.update(1)"
   ]
  },
  {
   "cell_type": "code",
   "execution_count": 5,
   "id": "a1263cab",
   "metadata": {
    "code_folding": [
     0
    ]
   },
   "outputs": [],
   "source": [
    "class HandleApr(HandleData):\n",
    "    def __init__(self) -> None:\n",
    "        super().__init__()\n",
    "        \n",
    "        self.apr_data_path = Path.joinpath(self.data_path, '速度(4月)')\n",
    "        self.day_name = self._get_day_name()\n",
    "        \n",
    "    def _get_day_name(self) -> DatetimeIndex:\n",
    "        return pd.date_range(\n",
    "            start='2020-04-01',\n",
    "            end='2020-05-01',\n",
    "            freq='D',\n",
    "            closed='left'\n",
    "        ).drop(\n",
    "            pd.date_range(\n",
    "                start='2020-04-04',\n",
    "                end='2020-04-06',\n",
    "                freq='D'\n",
    "            )\n",
    "        ).day_name()\n",
    "    \n",
    "    def _pretreatment(self, file: PosixPath) -> DataFrame:\n",
    "        df = pd.read_excel(\n",
    "                Path.joinpath(self.apr_data_path, file.name)\n",
    "            ).set_index(['Unnamed: 0'])\n",
    "        \n",
    "        df.index.name = 'time'\n",
    "        df.columns = self.day_name\n",
    "        \n",
    "        return df\n",
    "        \n",
    "    def _save(self, result_list: list, file: PosixPath) -> None:\n",
    "        with pd.ExcelWriter('./result/{}'.format(file.name)) as writer:\n",
    "            for num in range(len(result_list)):\n",
    "                result_series = result_list[num]\n",
    "                name = self.weekday_list[num]\n",
    "\n",
    "                weekday_result = result_series.to_frame()\n",
    "                weekday_result.columns = ['4月']\n",
    "                \n",
    "                df = pd.DataFrame(columns=[name+'速度均值', '9-11月', '3月'])\n",
    "                result = pd.concat([df, weekday_result])\n",
    "\n",
    "                result.to_excel(\n",
    "                    writer,\n",
    "                    sheet_name=name\n",
    "                )\n",
    "                \n",
    "    def _append(self, result_list: list, file: PosixPath) -> None:\n",
    "        excel_list = []\n",
    "        with pd.ExcelFile('./result/{}'.format(file.name)) as f:\n",
    "            for num in range(len(self.weekday_list)):\n",
    "                excel_list.append(\n",
    "                    f.parse(sheet_name=f.sheet_names[num]).set_index(['Unnamed: 0'])\n",
    "                )\n",
    "                \n",
    "        Path.joinpath(Path('./result/{}'.format(file.name))).unlink()\n",
    "            \n",
    "        with pd.ExcelWriter('./result/{}'.format(file.name)) as writer:\n",
    "            for num in range(len(result_list)):\n",
    "                result_series = result_list[num]\n",
    "                name = self.weekday_list[num]\n",
    "\n",
    "                weekday_result = result_series.to_frame()\n",
    "                weekday_result.columns = ['4月']\n",
    "                \n",
    "                result = pd.concat([excel_list[num].drop(['4月'], axis=1), weekday_result], axis=1)\n",
    "                result.to_excel(\n",
    "                    writer,\n",
    "                    sheet_name=name\n",
    "                )\n",
    "            \n",
    "    def run(self):\n",
    "        print('正在处理4月的数据，请稍候…')\n",
    "        \n",
    "        with tqdm(total=233) as pbar:\n",
    "            for file in self.apr_data_path.iterdir():\n",
    "                if file.suffix == '.xlsx':\n",
    "                    df = self._pretreatment(file).T\n",
    "\n",
    "                    groups = df.groupby(df.index)\n",
    "                    result_list = self._grouping(groups)\n",
    "                    \n",
    "                    if Path.joinpath(Path('./result/{}'.format(file.name))).exists():\n",
    "                        self._append(result_list, file)\n",
    "                    else:\n",
    "                        self._save(result_list, file)\n",
    "                pbar.update(1)"
   ]
  },
  {
   "cell_type": "code",
   "execution_count": 6,
   "id": "ba6ca901",
   "metadata": {
    "code_folding": []
   },
   "outputs": [
    {
     "name": "stdout",
     "output_type": "stream",
     "text": [
      "正在处理9-11月的数据，请稍候…\n"
     ]
    },
    {
     "data": {
      "application/vnd.jupyter.widget-view+json": {
       "model_id": "3668ed7f0383494cb787d06ed4185afe",
       "version_major": 2,
       "version_minor": 0
      },
      "text/plain": [
       "  0%|          | 0/231 [00:00<?, ?it/s]"
      ]
     },
     "metadata": {},
     "output_type": "display_data"
    },
    {
     "name": "stdout",
     "output_type": "stream",
     "text": [
      "正在处理3月的数据，请稍候…\n"
     ]
    },
    {
     "data": {
      "application/vnd.jupyter.widget-view+json": {
       "model_id": "8fcb382d32dc469b954026a2d5296953",
       "version_major": 2,
       "version_minor": 0
      },
      "text/plain": [
       "  0%|          | 0/232 [00:00<?, ?it/s]"
      ]
     },
     "metadata": {},
     "output_type": "display_data"
    },
    {
     "name": "stdout",
     "output_type": "stream",
     "text": [
      "正在处理4月的数据，请稍候…\n"
     ]
    },
    {
     "data": {
      "application/vnd.jupyter.widget-view+json": {
       "model_id": "203bea0b4d2d49a7b4a020cecfe73ad5",
       "version_major": 2,
       "version_minor": 0
      },
      "text/plain": [
       "  0%|          | 0/233 [00:00<?, ?it/s]"
      ]
     },
     "metadata": {},
     "output_type": "display_data"
    }
   ],
   "source": [
    "def main():\n",
    "    HandleSepNov().run()\n",
    "    HandleMar().run()\n",
    "    HandleApr().run()\n",
    "\n",
    "if __name__ == '__main__':\n",
    "    main()"
   ]
  }
 ],
 "metadata": {
  "kernelspec": {
   "display_name": "Python 3",
   "language": "python",
   "name": "python3"
  },
  "language_info": {
   "codemirror_mode": {
    "name": "ipython",
    "version": 3
   },
   "file_extension": ".py",
   "mimetype": "text/x-python",
   "name": "python",
   "nbconvert_exporter": "python",
   "pygments_lexer": "ipython3",
   "version": "3.7.3"
  }
 },
 "nbformat": 4,
 "nbformat_minor": 5
}
