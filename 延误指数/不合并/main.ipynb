{
 "cells": [
  {
   "cell_type": "code",
   "execution_count": 1,
   "id": "feba23e6",
   "metadata": {},
   "outputs": [],
   "source": [
    "import numpy as np\n",
    "import pandas as pd\n",
    "from pandas.core.indexes.datetimes import DatetimeIndex\n",
    "from pandas.core.frame import DataFrame\n",
    "from pandas.core.groupby.generic import DataFrameGroupBy\n",
    "\n",
    "from pathlib import Path, PosixPath"
   ]
  },
  {
   "cell_type": "code",
   "execution_count": 2,
   "id": "36cc7ba8",
   "metadata": {
    "code_folding": [
     0
    ]
   },
   "outputs": [],
   "source": [
    "class HandleData:\n",
    "    def __init__(self) -> None:\n",
    "        self.data_path = Path('../data/')\n",
    "        self.day_name = self.__get_day_name()\n",
    "        self.min_str = self.__get_min_str()\n",
    "    \n",
    "    def __get_day_name(self) -> DatetimeIndex:\n",
    "        return pd.date_range(\n",
    "            start='2020-09-01',\n",
    "            end='2020-11-30',\n",
    "            freq='D'\n",
    "        ).drop(\n",
    "            pd.date_range(\n",
    "                start='2020-10-01',\n",
    "                end='2020-10-08',\n",
    "                freq='D'\n",
    "            )\n",
    "        )\n",
    "    \n",
    "    def __get_min_str(self) -> DatetimeIndex:\n",
    "        return ['{}{}'.format(\n",
    "            t.split(' ')[1].split(':')[0],\n",
    "            t.split(' ')[1].split(':')[1]\n",
    "        ) for t in pd.date_range(\n",
    "            start='00:00',\n",
    "            end='23:55',\n",
    "            freq='5Min'\n",
    "        ).astype(str)]\n",
    "    \n",
    "    def __pretreatment(self, file: PosixPath) -> DataFrame:\n",
    "        df = pd.read_excel(Path.joinpath(self.data_path, file.name))\n",
    "        df = df.replace(0, np.nan)\\\n",
    "                .drop(['Unnamed: 0'], axis=1)\\\n",
    "                .drop(['time'], axis=1)\\\n",
    "                .drop(['1001'], axis=1).drop(['1002'], axis=1).drop(['1003'], axis=1).drop(['1004'], axis=1)\\\n",
    "                .drop(['1005'], axis=1).drop(['1006'], axis=1).drop(['1007'], axis=1).drop(['1008'], axis=1)\n",
    "        \n",
    "        df.columns = self.day_name\n",
    "        df.columns = df.columns.day_name()\n",
    "        \n",
    "        return df\n",
    "    \n",
    "    def __grouping(self, groups: DataFrameGroupBy) -> DataFrame:\n",
    "        mon_mean = pd.DataFrame(groups.get_group('Monday').mean())\n",
    "        mon_mean.index = self.min_str\n",
    "        mon_mean.columns = ['Monday']\n",
    "\n",
    "        tue_mean = pd.DataFrame(groups.get_group('Tuesday').mean())\n",
    "        tue_mean.index = self.min_str\n",
    "        tue_mean.columns = ['Tuesday']\n",
    "\n",
    "        wed_mean = pd.DataFrame(groups.get_group('Wednesday').mean())\n",
    "        wed_mean.index = self.min_str\n",
    "        wed_mean.columns = ['Wednesday']\n",
    "\n",
    "        thur_mean = pd.DataFrame(groups.get_group('Thursday').mean())\n",
    "        thur_mean.index = self.min_str\n",
    "        thur_mean.columns = ['Thursday']\n",
    "\n",
    "        fri_mean = pd.DataFrame(groups.get_group('Friday').mean())\n",
    "        fri_mean.index = self.min_str\n",
    "        fri_mean.columns = ['Friday']\n",
    "\n",
    "        sat_mean = pd.DataFrame(groups.get_group('Saturday').mean())\n",
    "        sat_mean.index = self.min_str\n",
    "        sat_mean.columns = ['Saturday']\n",
    "\n",
    "        sun_mean = pd.DataFrame(groups.get_group('Sunday').mean())\n",
    "        sun_mean.index = self.min_str\n",
    "        sun_mean.columns = ['Sunday']\n",
    "        \n",
    "        return pd.concat([mon_mean, tue_mean, wed_mean, thur_mean, fri_mean, sat_mean, sun_mean], axis=1)\n",
    "        \n",
    "    \n",
    "    def run(self) -> None:\n",
    "        for file in self.data_path.iterdir():\n",
    "            if file.suffix == '.xls':\n",
    "                df = self.__pretreatment(file).T\n",
    "                \n",
    "                groups = df.groupby(df.index)\n",
    "                result = self.__grouping(groups)\n",
    "                result.to_excel(\n",
    "                    './星期/{}x'.format(file.name)          "
   ]
  },
  {
   "cell_type": "code",
   "execution_count": 3,
   "id": "74627983",
   "metadata": {},
   "outputs": [],
   "source": [
    "def main() -> None:\n",
    "    HandleData().run()"
   ]
  },
  {
   "cell_type": "code",
   "execution_count": 4,
   "id": "18b050f1",
   "metadata": {
    "code_folding": [
     0
    ]
   },
   "outputs": [],
   "source": [
    "if __name__ == '__main__':\n",
    "    main()"
   ]
  },
  {
   "cell_type": "code",
   "execution_count": null,
   "id": "fd7092f0",
   "metadata": {},
   "outputs": [],
   "source": []
  }
 ],
 "metadata": {
  "kernelspec": {
   "display_name": "Python 3",
   "language": "python",
   "name": "python3"
  },
  "language_info": {
   "codemirror_mode": {
    "name": "ipython",
    "version": 3
   },
   "file_extension": ".py",
   "mimetype": "text/x-python",
   "name": "python",
   "nbconvert_exporter": "python",
   "pygments_lexer": "ipython3",
   "version": "3.7.3"
  }
 },
 "nbformat": 4,
 "nbformat_minor": 5
}
